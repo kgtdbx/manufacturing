{
 "cells": [
  {
   "cell_type": "code",
   "execution_count": 2,
   "metadata": {},
   "outputs": [
    {
     "name": "stdout",
     "output_type": "stream",
     "text": [
      "-------------------------------------------------------------\n",
      "              -----Import Completed-----                          \n",
      "-------------------------------------------------------------\n",
      "-------------------------------------------------------------\n",
      "              -----Function Created-----                          \n",
      "-------------------------------------------------------------\n",
      "Products:\n",
      "Choose the product to be manufactured!!a\n",
      "How many products to be manufactured ?2\n",
      "  fg Materials   ur  total_remained  Max Independent\n",
      "0  A        m1  300            1400              3.0\n",
      "1  A        m2  200             600              3.0\n",
      "2  A        m3   50             400              3.0\n",
      "3  A        m4  800            2400              3.0\n",
      "4  B        m1  600            1400              2.0\n",
      "5  B        m2  100             600              2.0\n",
      "6  B        m3  200             400              2.0\n",
      "7  B        m4   50            2400              2.0\n"
     ]
    }
   ],
   "source": [
    "# Importing Modules \n",
    "import pandas as pd \n",
    "import numpy as np\n",
    "\n",
    "print('-------------------------------------------------------------')\n",
    "print('              -----Import Completed-----                          ')\n",
    "print('-------------------------------------------------------------')\n",
    "\n",
    "# Function created to round off a number. \n",
    "def rof(num):\n",
    "    a=round(num)\n",
    "    return a\n",
    "print('-------------------------------------------------------------')\n",
    "print('              -----Function Created-----                          ')\n",
    "print('-------------------------------------------------------------')\n",
    "\n",
    "# Reading the csv file as dataframe with details of requirement of material for creating a unit of finished good   \n",
    "df_raw=pd.read_excel('C://Users/admin/Desktop/Pankaj/Book1.xlsx')\n",
    "##print(df_raw)\n",
    "\n",
    "#Display the type of finished goods that can be Processed\n",
    "print('Products:')\n",
    "prod=df_raw['fg']\n",
    "products=np.array(prod)\n",
    "##print(np.unique(products))\n",
    "# End user input user for selecting the product to be manufactured\n",
    "to_manuf_prod=input('Choose the product to be manufactured!!')\n",
    "to_manuf_prod=to_manuf_prod.upper()\n",
    "# End user input for giving the number of items to me manufactured\n",
    "number_of_items=int(input('How many products to be manufactured ?'))\n",
    "\n",
    "# -------- Section to determine the quatity of material left after the being used for specified item---------\n",
    "df_filter=df_raw[df_raw['fg']==to_manuf_prod]\n",
    "\n",
    "df_filter.loc[:,'ur'] *= number_of_items\n",
    "df_filter.loc[:,'total']=df_filter['total']-df_filter['ur']\n",
    "df_filter_temp=df_filter[['Materials','total']]\n",
    "\n",
    "df_temp_final=pd.merge(df_raw, df_filter_temp , on='Materials',how='left',suffixes=('_left','_remained'))\n",
    "del df_filter\n",
    "del df_filter_temp\n",
    "del df_temp_final['total_left']\n",
    "##print(df_temp_final)\n",
    "\n",
    "#---- Section to determine the quatity which of fibished goods that can be produced with the remaining material\n",
    "# Getting a sliced data frame\n",
    "sub_df_temp_final= df_temp_final.loc[:,['fg']]\n",
    "# Adding a max quantity column in sliced dataframe\n",
    "sub_df_temp_final.loc[:,'Max Independent']=df_temp_final['total_remained']/df_temp_final['ur']\n",
    "##print(sub_df_temp_final)\n",
    "\n",
    "# Grouped it by fg column\n",
    "df_temp_max=sub_df_temp_final.groupby('fg').min().apply(rof)\n",
    "#print(df_temp_max)\n",
    "\n",
    "# Joining two dataframes to get the max column value againts respective rows\n",
    "df_final_out=pd.merge(df_temp_final,df_temp_max,on='fg',how='left')\n",
    "del df_temp_final\n",
    "del sub_df_temp_final\n",
    "del df_temp_max\n",
    "print(df_final_out)\n"
   ]
  },
  {
   "cell_type": "code",
   "execution_count": null,
   "metadata": {},
   "outputs": [],
   "source": []
  },
  {
   "cell_type": "code",
   "execution_count": null,
   "metadata": {},
   "outputs": [],
   "source": []
  }
 ],
 "metadata": {
  "kernelspec": {
   "display_name": "Python 3",
   "language": "python",
   "name": "python3"
  },
  "language_info": {
   "codemirror_mode": {
    "name": "ipython",
    "version": 3
   },
   "file_extension": ".py",
   "mimetype": "text/x-python",
   "name": "python",
   "nbconvert_exporter": "python",
   "pygments_lexer": "ipython3",
   "version": "3.7.4"
  }
 },
 "nbformat": 4,
 "nbformat_minor": 2
}
